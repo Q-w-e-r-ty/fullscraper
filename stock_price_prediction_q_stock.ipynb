{
  "cells": [
    {
      "cell_type": "code",
      "execution_count": 1,
      "metadata": {},
      "outputs": [
        {
          "name": "stdout",
          "output_type": "stream",
          "text": [
            "absl-py==2.1.0\n",
            "aiohappyeyeballs==2.4.3\n",
            "aiohttp==3.10.10\n",
            "aiosignal==1.3.1\n",
            "alembic==1.14.0\n",
            "antlr4-python3-runtime==4.9.3\n",
            "anyio==4.2.0\n",
            "appdirs==1.4.4\n",
            "argon2-cffi==23.1.0\n",
            "argon2-cffi-bindings==21.2.0\n",
            "arrow==1.3.0\n",
            "asteroid-filterbanks==0.4.0\n",
            "asttokens==2.4.1\n",
            "astunparse==1.6.3\n",
            "async-lru==2.0.4\n",
            "async-timeout==4.0.3\n",
            "attrs==23.2.0\n",
            "audioread==3.0.1\n",
            "autograd==1.7.0\n",
            "autoray==0.7.0\n",
            "Babel==2.14.0\n",
            "beautifulsoup4==4.12.3\n",
            "bleach==6.1.0\n",
            "blinker==1.8.2\n",
            "CacheControl==0.14.0\n",
            "cachetools==5.3.2\n",
            "certifi==2024.2.2\n",
            "cffi==1.16.0\n",
            "charset-normalizer==3.3.2\n",
            "click==8.1.7\n",
            "colorama==0.4.6\n",
            "colorlog==6.9.0\n",
            "comm==0.2.1\n",
            "contourpy==1.2.0\n",
            "cryptography==43.0.0\n",
            "cycler==0.12.1\n",
            "Cython==3.0.11\n",
            "debugpy==1.8.0\n",
            "decorator==5.1.1\n",
            "defusedxml==0.7.1\n",
            "docopt==0.6.2\n",
            "einops==0.8.0\n",
            "et_xmlfile==2.0.0\n",
            "exceptiongroup==1.2.0\n",
            "executing==2.0.1\n",
            "fastjsonschema==2.19.1\n",
            "filelock==3.13.1\n",
            "firebase-admin==6.5.0\n",
            "Flask==3.0.3\n",
            "flatbuffers==23.5.26\n",
            "fonttools==4.48.1\n",
            "fqdn==1.5.1\n",
            "frozendict==2.4.6\n",
            "frozenlist==1.5.0\n",
            "fsspec==2024.2.0\n",
            "gast==0.4.0\n",
            "google-api-core==2.19.1\n",
            "google-api-python-client==2.142.0\n",
            "google-auth==2.27.0\n",
            "google-auth-httplib2==0.2.0\n",
            "google-auth-oauthlib==0.4.6\n",
            "google-cloud-core==2.4.1\n",
            "google-cloud-firestore==2.17.2\n",
            "google-cloud-storage==2.18.2\n",
            "google-crc32c==1.5.0\n",
            "google-pasta==0.2.0\n",
            "google-resumable-media==2.7.2\n",
            "googleapis-common-protos==1.63.2\n",
            "graphviz==0.20.1\n",
            "greenlet==3.1.1\n",
            "grpcio==1.66.0\n",
            "grpcio-status==1.66.0\n",
            "h11==0.14.0\n",
            "h5py==3.10.0\n",
            "html5lib==1.1\n",
            "httpcore==1.0.2\n",
            "httplib2==0.22.0\n",
            "httpx==0.26.0\n",
            "huggingface-hub==0.26.2\n",
            "hydra-core==1.3.2\n",
            "HyperPyYAML==1.2.2\n",
            "idna==3.6\n",
            "importlib-metadata==7.0.1\n",
            "importlib-resources==6.1.1\n",
            "intel-openmp==2021.4.0\n",
            "ipykernel==6.29.2\n",
            "ipython==8.18.1\n",
            "ipywidgets==8.1.2\n",
            "isoduration==20.11.0\n",
            "itsdangerous==2.2.0\n",
            "jedi==0.19.1\n",
            "Jinja2==3.1.3\n",
            "joblib==1.3.2\n",
            "json5==0.9.14\n",
            "jsonpointer==2.4\n",
            "jsonschema==4.21.1\n",
            "jsonschema-specifications==2023.12.1\n",
            "julius==0.2.7\n",
            "jupyter==1.0.0\n",
            "jupyter-console==6.6.3\n",
            "jupyter-events==0.9.0\n",
            "jupyter-lsp==2.2.2\n",
            "jupyter_client==8.6.0\n",
            "jupyter_core==5.7.1\n",
            "jupyter_server==2.12.5\n",
            "jupyter_server_terminals==0.5.2\n",
            "jupyterlab==4.1.0\n",
            "jupyterlab_pygments==0.3.0\n",
            "jupyterlab_server==2.25.2\n",
            "jupyterlab_widgets==3.0.10\n",
            "keras==2.10.0\n",
            "Keras-Preprocessing==1.1.2\n",
            "keras-tuner==1.4.7\n",
            "kiwisolver==1.4.5\n",
            "kt-legacy==1.0.5\n",
            "lab==8.0\n",
            "lazy_loader==0.3\n",
            "libclang==16.0.6\n",
            "librosa==0.10.1\n",
            "lightning==2.4.0\n",
            "lightning-utilities==0.11.8\n",
            "llvmlite==0.42.0\n",
            "lxml==5.3.1\n",
            "Mako==1.3.6\n",
            "Markdown==3.5.2\n",
            "markdown-it-py==3.0.0\n",
            "MarkupSafe==2.1.5\n",
            "matplotlib==3.8.2\n",
            "matplotlib-inline==0.1.6\n",
            "mdurl==0.1.2\n",
            "mistune==3.0.2\n",
            "mkl==2021.4.0\n",
            "mpmath==1.3.0\n",
            "msgpack==1.0.8\n",
            "multidict==6.1.0\n",
            "multitasking==0.0.11\n",
            "mysql-connector-python==9.1.0\n",
            "Naked==0.1.32\n",
            "nbclient==0.9.0\n",
            "nbconvert==7.16.0\n",
            "nbformat==5.9.2\n",
            "nest-asyncio==1.6.0\n",
            "networkx==3.2.1\n",
            "noisereduce==3.0.2\n",
            "notebook==7.0.7\n",
            "notebook_shim==0.2.3\n",
            "numba==0.59.0\n",
            "numpy==1.26.3\n",
            "oauthlib==3.2.2\n",
            "omegaconf==2.3.0\n",
            "opencv-python==4.9.0.80\n",
            "openpyxl==3.1.5\n",
            "opt-einsum==3.3.0\n",
            "optuna==4.0.0\n",
            "outcome==1.3.0.post0\n",
            "overrides==7.7.0\n",
            "p2j==1.3.2\n",
            "packaging==23.2\n",
            "pandas==2.2.0\n",
            "pandas-datareader==0.10.0\n",
            "pandocfilters==1.5.1\n",
            "parso==0.8.3\n",
            "peewee==3.17.9\n",
            "PennyLane==0.38.0\n",
            "PennyLane_Lightning==0.38.0\n",
            "pillow==10.2.0\n",
            "platformdirs==4.2.0\n",
            "pooch==1.8.1\n",
            "primePy==1.3\n",
            "prometheus-client==0.19.0\n",
            "prompt-toolkit==3.0.43\n",
            "propcache==0.2.0\n",
            "proto-plus==1.24.0\n",
            "protobuf==3.20.3\n",
            "psutil==5.9.8\n",
            "pure-eval==0.2.2\n",
            "pyannote.audio==3.3.2\n",
            "pyannote.core==5.0.0\n",
            "pyannote.database==5.1.0\n",
            "pyannote.metrics==3.2.1\n",
            "pyannote.pipeline==3.0.1\n",
            "pyarrow==15.0.0\n",
            "pyasn1==0.5.1\n",
            "pyasn1-modules==0.3.0\n",
            "pycparser==2.21\n",
            "pycryptodome==3.20.0\n",
            "pydub==0.25.1\n",
            "Pygments==2.17.2\n",
            "PyJWT==2.9.0\n",
            "pyparsing==3.1.1\n",
            "PySocks==1.7.1\n",
            "python-dateutil==2.8.2\n",
            "python-json-logger==2.0.7\n",
            "pytorch-lightning==2.4.0\n",
            "pytorch-metric-learning==2.7.0\n",
            "pytz==2024.1\n",
            "pywin32==306\n",
            "pywinpty==2.0.12\n",
            "PyYAML==6.0.1\n",
            "pyzmq==25.1.2\n",
            "qtconsole==5.5.1\n",
            "QtPy==2.4.1\n",
            "referencing==0.33.0\n",
            "regex==2024.9.11\n",
            "requests==2.31.0\n",
            "requests-oauthlib==1.3.1\n",
            "Resemblyzer==0.1.4\n",
            "rfc3339-validator==0.1.4\n",
            "rfc3986-validator==0.1.1\n",
            "rich==13.9.4\n",
            "rpds-py==0.17.1\n",
            "rsa==4.9\n",
            "ruamel.yaml==0.18.6\n",
            "ruamel.yaml.clib==0.2.8\n",
            "rustworkx==0.16.0\n",
            "safetensors==0.4.5\n",
            "scikit-learn==1.4.1.post1\n",
            "scikit-learn-extra==0.3.0\n",
            "scipy==1.12.0\n",
            "seaborn==0.13.2\n",
            "selenium==4.26.1\n",
            "semver==3.0.2\n",
            "Send2Trash==1.8.2\n",
            "sentencepiece==0.2.0\n",
            "shellescape==3.8.1\n",
            "shellingham==1.5.4\n",
            "simplejson==3.19.2\n",
            "six==1.16.0\n",
            "sniffio==1.3.0\n",
            "sortedcontainers==2.4.0\n",
            "sounddevice==0.4.6\n",
            "soundfile==0.12.1\n",
            "soupsieve==2.5\n",
            "soxr==0.3.7\n",
            "speechbrain==1.0.0\n",
            "SQLAlchemy==2.0.36\n",
            "stack-data==0.6.3\n",
            "sympy==1.12\n",
            "tabulate==0.9.0\n",
            "tbb==2021.13.0\n",
            "tensorboard==2.10.1\n",
            "tensorboard-data-server==0.6.1\n",
            "tensorboard-plugin-wit==1.8.1\n",
            "tensorboardX==2.6.2.2\n",
            "tensorflow==2.10.1\n",
            "tensorflow-estimator==2.10.0\n",
            "tensorflow-io-gcs-filesystem==0.31.0\n",
            "termcolor==2.4.0\n",
            "terminado==0.18.0\n",
            "threadpoolctl==3.3.0\n",
            "tinycss2==1.2.1\n",
            "tokenizers==0.20.1\n",
            "toml==0.10.2\n",
            "tomli==2.0.1\n",
            "torch==2.4.1+cu118\n",
            "torch-audiomentations==0.11.1\n",
            "torch_pitch_shift==1.2.5\n",
            "torchaudio==2.4.1+cu118\n",
            "torchmetrics==1.5.1\n",
            "torchvision==0.19.1+cu118\n",
            "tornado==6.4\n",
            "tqdm==4.66.4\n",
            "traitlets==5.14.1\n",
            "transformers==4.46.0\n",
            "trio==0.28.0\n",
            "trio-websocket==0.11.1\n",
            "txt2tags==3.9\n",
            "typer==0.13.0\n",
            "types-python-dateutil==2.8.19.20240106\n",
            "typing==3.7.4.3\n",
            "typing_extensions==4.9.0\n",
            "tzdata==2024.1\n",
            "uri-template==1.3.0\n",
            "uritemplate==4.1.1\n",
            "urllib3==2.2.0\n",
            "wcwidth==0.2.13\n",
            "webcolors==1.13\n",
            "webencodings==0.5.1\n",
            "webrtcvad==2.0.10\n",
            "websocket-client==1.8.0\n",
            "Werkzeug==3.0.1\n",
            "widgetsnbextension==4.0.10\n",
            "wrapt==1.16.0\n",
            "wsproto==1.2.0\n",
            "yarl==1.17.0\n",
            "yfinance==0.2.40\n",
            "zipp==3.17.0\n"
          ]
        }
      ],
      "source": [
        "!pip freeze"
      ]
    },
    {
      "cell_type": "code",
      "execution_count": null,
      "metadata": {
        "colab": {
          "base_uri": "https://localhost:8080/"
        },
        "id": "Jpm8P_c8xEQr",
        "outputId": "a03d4819-1278-4952-c05c-63935ae56ffc"
      },
      "outputs": [
        {
          "name": "stdout",
          "output_type": "stream",
          "text": [
            "Using device: cuda\n"
          ]
        }
      ],
      "source": [
        "import torch\n",
        "device = torch.device('cuda' if torch.cuda.is_available() else 'cpu')\n",
        "print(f'Using device: {device}')"
      ]
    },
    {
      "cell_type": "code",
      "execution_count": null,
      "metadata": {
        "colab": {
          "base_uri": "https://localhost:8080/"
        },
        "id": "pt0clWMbsM-D",
        "outputId": "ce2517c6-13b8-463c-e4e4-01e32b616c6d"
      },
      "outputs": [
        {
          "name": "stdout",
          "output_type": "stream",
          "text": [
            "yfinance: pandas_datareader support is deprecated & semi-broken so will be removed in a future verison. Just use yfinance.\n"
          ]
        }
      ],
      "source": [
        "import pandas as pd\n",
        "\n",
        "import time\n",
        "import numpy as np\n",
        "import math\n",
        "import matplotlib.pyplot as plt\n",
        "\n",
        "from torch.utils.data import DataLoader\n",
        "from torch import nn\n",
        "\n",
        "from datetime import datetime\n",
        "\n",
        "# Replace this to use Noisy QLSTM\n",
        "# from QLSTM_Noisy import SequenceDataset\n",
        "from QLSTMv1 import SequenceDataset\n",
        "\n",
        "import yfinance as yf\n",
        "from pandas_datareader import data as pdr\n",
        "yf.pdr_override()"
      ]
    },
    {
      "cell_type": "code",
      "execution_count": null,
      "metadata": {
        "id": "KSM706r4sM-G"
      },
      "outputs": [],
      "source": [
        "df = pd.read_csv('hcl_combined.csv')"
      ]
    },
    {
      "cell_type": "code",
      "execution_count": null,
      "metadata": {
        "id": "O-Z4vdNGsM-G"
      },
      "outputs": [],
      "source": [
        "columns = ['Open Price', 'High Price', 'Low Price', 'Close Price','feature1','feature2','feature3','feature4','feature5']"
      ]
    },
    {
      "cell_type": "code",
      "execution_count": null,
      "metadata": {
        "id": "5ohP3mxmsM-G"
      },
      "outputs": [],
      "source": [
        "data = df.filter(columns)\n",
        "dataset = data.values"
      ]
    },
    {
      "cell_type": "code",
      "execution_count": null,
      "metadata": {
        "id": "Pnqlu4rQsM-H"
      },
      "outputs": [],
      "source": [
        "# Splitting the data into train and test\n",
        "size = int(len(df) * 0.7)\n",
        "df_train = dataset[:size].copy()\n",
        "df_test = dataset[size:].copy()"
      ]
    },
    {
      "cell_type": "code",
      "execution_count": null,
      "metadata": {
        "id": "1fdppx5OsM-H"
      },
      "outputs": [],
      "source": [
        "# Select the features\n",
        "df_train = pd.DataFrame(df_train, columns=columns)\n",
        "df_test = pd.DataFrame(df_test, columns=columns)\n",
        "\n",
        "features = df_train.columns\n",
        "target = 'Close Price'"
      ]
    },
    {
      "cell_type": "code",
      "execution_count": null,
      "metadata": {
        "id": "7_R93FYMsM-I"
      },
      "outputs": [],
      "source": [
        "def normalize(a, min_a=None, max_a=None):\n",
        "    if min_a is None:\n",
        "        min_a, max_a = np.min(a, axis=0), np.max(a, axis=0)\n",
        "    return (a - min_a) / (max_a - min_a + 0.0001), min_a, max_a"
      ]
    },
    {
      "cell_type": "code",
      "execution_count": null,
      "metadata": {
        "id": "FeUr5IL-sM-I"
      },
      "outputs": [],
      "source": [
        "# Normalizing the data\n",
        "df_train, min_train, max_train = normalize(df_train)\n",
        "df_test, _, _ = normalize(df_test, min_train, max_train)"
      ]
    },
    {
      "cell_type": "code",
      "execution_count": null,
      "metadata": {
        "colab": {
          "base_uri": "https://localhost:8080/"
        },
        "id": "WtkxRWlNsM-I",
        "outputId": "26e8a41b-c175-40ab-81cd-ea0a8d553968"
      },
      "outputs": [
        {
          "name": "stdout",
          "output_type": "stream",
          "text": [
            "Features shape: torch.Size([1, 3, 9])\n",
            "Target shape: torch.Size([1])\n"
          ]
        }
      ],
      "source": [
        "torch.manual_seed(101)\n",
        "\n",
        "batch_size = 1\n",
        "sequence_length = 3\n",
        "\n",
        "train_dataset = SequenceDataset(\n",
        "    df_train,\n",
        "    target=target,\n",
        "    features=features,\n",
        "    sequence_length=sequence_length\n",
        ")\n",
        "test_dataset = SequenceDataset(\n",
        "    df_test,\n",
        "    target=target,\n",
        "    features=features,\n",
        "    sequence_length=sequence_length\n",
        ")\n",
        "\n",
        "train_loader = DataLoader(train_dataset, batch_size=batch_size, shuffle=True, pin_memory=True)\n",
        "test_loader = DataLoader(test_dataset, batch_size=batch_size, shuffle=False, pin_memory=True)\n",
        "\n",
        "X, y = next(iter(train_loader))\n",
        "\n",
        "print(\"Features shape:\", X.shape)\n",
        "print(\"Target shape:\", y.shape)"
      ]
    },
    {
      "cell_type": "code",
      "execution_count": null,
      "metadata": {
        "id": "Eq2ZhawgsM-J"
      },
      "outputs": [],
      "source": [
        "def train_model(data_loader, model, loss_function, optimizer):\n",
        "    num_batches = len(data_loader)\n",
        "    total_loss = 0\n",
        "    model.train()\n",
        "\n",
        "    for X, y in data_loader:\n",
        "        X, y = X.to(device), y.to(device)\n",
        "        output = model(X)\n",
        "        loss = loss_function(output, y)\n",
        "\n",
        "        optimizer.zero_grad()\n",
        "        loss.backward()\n",
        "        optimizer.step()\n",
        "\n",
        "        total_loss += loss.item()\n",
        "\n",
        "    avg_loss = total_loss / num_batches\n",
        "    print(f\"Train loss: {avg_loss}\")\n",
        "    return avg_loss\n",
        "\n",
        "\n",
        "def test_model(data_loader, model, loss_function):\n",
        "    num_batches = len(data_loader)\n",
        "    total_loss = 0\n",
        "    model.eval()\n",
        "    with torch.no_grad():\n",
        "        for X, y in data_loader:\n",
        "            X, y = X.to(device), y.to(device)\n",
        "            output = model(X)\n",
        "            total_loss += loss_function(output, y).item()\n",
        "\n",
        "    avg_loss = total_loss / num_batches\n",
        "    print(f\"Test loss: {avg_loss}\")\n",
        "    return avg_loss\n",
        "\n",
        "def predict(data_loader, model):\n",
        "    \"\"\"Just like `test_loop` function but keep track of the outputs instead of the loss\n",
        "    function.\n",
        "    \"\"\"\n",
        "    output = torch.tensor([]).to(device)\n",
        "    model.eval()\n",
        "    with torch.no_grad():\n",
        "        for X, _ in data_loader:\n",
        "            X = X.to(device)\n",
        "            y_star = model(X)\n",
        "            output = torch.cat((output, y_star), 0)\n",
        "\n",
        "    return output.cpu()"
      ]
    },
    {
      "cell_type": "code",
      "execution_count": null,
      "metadata": {
        "colab": {
          "base_uri": "https://localhost:8080/"
        },
        "id": "r1EMfnN1sM-J",
        "outputId": "7be88a24-eb69-4970-f7c5-a015566ff177"
      },
      "outputs": [
        {
          "name": "stdout",
          "output_type": "stream",
          "text": [
            "weight_shapes = (n_qlayers, n_vrotations, n_qubits) = (1, 3, 7)\n"
          ]
        }
      ],
      "source": [
        "from QLSTMv1 import QShallowRegressionLSTM\n",
        "\n",
        "learning_rate = 0.01\n",
        "num_hidden_units = 16\n",
        "\n",
        "Qmodel = QShallowRegressionLSTM(\n",
        "    num_sensors=len(features),\n",
        "    hidden_units=num_hidden_units,\n",
        "    n_qubits=7,\n",
        "    n_qlayers=1\n",
        ").to(device)\n",
        "loss_function = nn.MSELoss()\n",
        "optimizer = torch.optim.Adam(Qmodel.parameters(), lr=learning_rate)"
      ]
    },
    {
      "cell_type": "code",
      "execution_count": null,
      "metadata": {
        "colab": {
          "base_uri": "https://localhost:8080/"
        },
        "id": "lI7poMUYsM-K",
        "outputId": "882e1f11-5f73-4458-9945-5626054a3078"
      },
      "outputs": [
        {
          "name": "stdout",
          "output_type": "stream",
          "text": [
            "Number of parameters: 327\n"
          ]
        }
      ],
      "source": [
        "# Count number of parameters\n",
        "num_params = sum(p.numel() for p in Qmodel.parameters() if p.requires_grad)\n",
        "print(f\"Number of parameters: {num_params}\")"
      ]
    },
    {
      "cell_type": "code",
      "execution_count": 21,
      "metadata": {
        "colab": {
          "base_uri": "https://localhost:8080/"
        },
        "id": "kGNV1_xPsM-K",
        "outputId": "08a76821-c2dc-4b58-df6b-7ac6cb00e66c"
      },
      "outputs": [
        {
          "name": "stdout",
          "output_type": "stream",
          "text": [
            "Untrained test\n",
            "--------\n",
            "Epoch 0\n",
            "---------\n",
            "Train loss: 0.03318206492380219\n",
            "Test loss: 0.007194885257263963\n",
            "Execution time 193.2568714618683\n",
            "Epoch 1\n",
            "---------\n",
            "Train loss: 0.0017869951924427108\n",
            "Test loss: 0.002434103247378286\n",
            "Execution time 190.57463383674622\n",
            "Epoch 2\n",
            "---------\n",
            "Train loss: 0.0021537655225352167\n",
            "Test loss: 0.007568331583056887\n",
            "Execution time 190.33815097808838\n",
            "Epoch 3\n",
            "---------\n",
            "Train loss: 0.0027437095039235886\n",
            "Test loss: 0.003031292001646892\n",
            "Execution time 191.82515692710876\n",
            "Epoch 4\n",
            "---------\n",
            "Train loss: 0.0018234283830840764\n",
            "Test loss: 0.005589576838560467\n",
            "Execution time 189.0535809993744\n",
            "Epoch 5\n",
            "---------\n",
            "Train loss: 0.0009620576049177884\n",
            "Test loss: 0.0012442817870168244\n",
            "Execution time 187.84123849868774\n",
            "Epoch 6\n",
            "---------\n",
            "Train loss: 0.0013576189730753383\n",
            "Test loss: 0.0026165442354918137\n",
            "Execution time 188.59812450408936\n",
            "Epoch 7\n",
            "---------\n",
            "Train loss: 0.0014576168173463626\n",
            "Test loss: 0.003556980056720806\n",
            "Execution time 188.39315915107727\n",
            "Epoch 8\n",
            "---------\n",
            "Train loss: 0.0014553136536567058\n",
            "Test loss: 0.003477403581255172\n",
            "Execution time 191.49569010734558\n",
            "Epoch 9\n",
            "---------\n",
            "Train loss: 0.0007219979007521164\n",
            "Test loss: 0.0029373314764167867\n",
            "Execution time 191.55625915527344\n",
            "Epoch 10\n",
            "---------\n",
            "Train loss: 0.0009412939369550427\n",
            "Test loss: 0.002798292008963352\n",
            "Execution time 189.67718124389648\n",
            "Epoch 11\n",
            "---------\n",
            "Train loss: 0.0014081641909478285\n",
            "Test loss: 0.005440389233418221\n",
            "Execution time 190.04192852973938\n",
            "Epoch 12\n",
            "---------\n",
            "Train loss: 0.0012570239597105221\n",
            "Test loss: 0.001187884456948108\n",
            "Execution time 191.03871488571167\n",
            "Epoch 13\n",
            "---------\n",
            "Train loss: 0.0011108940039467078\n",
            "Test loss: 0.004974475989154666\n",
            "Execution time 191.26799654960632\n",
            "Epoch 14\n",
            "---------\n",
            "Train loss: 0.0006951287775575516\n",
            "Test loss: 0.0033175638913553176\n",
            "Execution time 190.69408249855042\n",
            "Epoch 15\n",
            "---------\n",
            "Train loss: 0.0010481149831749398\n",
            "Test loss: 0.0009619617976430859\n",
            "Execution time 190.54058527946472\n",
            "Epoch 16\n",
            "---------\n",
            "Train loss: 0.0005357009524908298\n",
            "Test loss: 0.000987851635704353\n",
            "Execution time 189.0444152355194\n",
            "Epoch 17\n",
            "---------\n",
            "Train loss: 0.000929724995405306\n",
            "Test loss: 0.006648800957230599\n",
            "Execution time 188.63261604309082\n",
            "Epoch 18\n",
            "---------\n",
            "Train loss: 0.0021161700816996975\n",
            "Test loss: 0.005117658076216771\n",
            "Execution time 189.43901920318604\n",
            "Epoch 19\n",
            "---------\n",
            "Train loss: 0.0012210499327538688\n",
            "Test loss: 0.0018240516176796198\n",
            "Execution time 189.97717380523682\n",
            "Epoch 20\n",
            "---------\n",
            "Train loss: 0.0014264236838556475\n",
            "Test loss: 0.0033370905619662878\n",
            "Execution time 189.83941984176636\n",
            "Epoch 21\n",
            "---------\n",
            "Train loss: 0.0005975125320057563\n",
            "Test loss: 0.0009678597509780166\n",
            "Execution time 188.59824132919312\n",
            "Epoch 22\n",
            "---------\n",
            "Train loss: 0.000474881714800554\n",
            "Test loss: 0.0008736511218267387\n",
            "Execution time 188.64965415000916\n",
            "Epoch 23\n",
            "---------\n",
            "Train loss: 0.0006445100058071377\n",
            "Test loss: 0.0015897645251706572\n",
            "Execution time 189.1783745288849\n",
            "Epoch 24\n",
            "---------\n",
            "Train loss: 0.002080362872619471\n",
            "Test loss: 0.0016499105070182523\n",
            "Execution time 189.3273160457611\n",
            "Epoch 25\n",
            "---------\n",
            "Train loss: 0.001049922610245499\n",
            "Test loss: 0.002093954330032245\n",
            "Execution time 188.73851084709167\n",
            "Epoch 26\n",
            "---------\n",
            "Train loss: 0.0006770554610123485\n",
            "Test loss: 0.002336950235679171\n",
            "Execution time 188.74630427360535\n",
            "Epoch 27\n",
            "---------\n",
            "Train loss: 0.0007387224672549754\n",
            "Test loss: 0.0011390982730800352\n",
            "Execution time 187.78603649139404\n",
            "Epoch 28\n",
            "---------\n",
            "Train loss: 0.00039945982383550753\n",
            "Test loss: 0.00034709389547329564\n",
            "Execution time 186.76754236221313\n",
            "Epoch 29\n",
            "---------\n",
            "Train loss: 0.0005070890904662694\n",
            "Test loss: 0.0023984865255369113\n",
            "Execution time 188.61362743377686\n",
            "Epoch 30\n",
            "---------\n",
            "Train loss: 0.0007094623892458983\n",
            "Test loss: 0.00043655030829639244\n",
            "Execution time 187.38275146484375\n",
            "Epoch 31\n",
            "---------\n",
            "Train loss: 0.00760830900469085\n",
            "Test loss: 0.011001951788981584\n",
            "Execution time 187.22007870674133\n",
            "Epoch 32\n",
            "---------\n",
            "Train loss: 0.02510751889329572\n",
            "Test loss: 0.01852881417979001\n",
            "Execution time 187.81029510498047\n",
            "Epoch 33\n",
            "---------\n",
            "Train loss: 0.0029822962938398133\n",
            "Test loss: 0.013085097374402254\n",
            "Execution time 187.2523033618927\n",
            "Epoch 34\n",
            "---------\n",
            "Train loss: 0.0009223926013022243\n",
            "Test loss: 0.008928307279901631\n",
            "Execution time 187.31853365898132\n",
            "Epoch 35\n",
            "---------\n",
            "Train loss: 0.0009549017968653969\n",
            "Test loss: 0.012224644599350264\n",
            "Execution time 187.35312819480896\n",
            "Epoch 36\n",
            "---------\n",
            "Train loss: 0.0010293494445461349\n",
            "Test loss: 0.01712182849878691\n",
            "Execution time 186.79713201522827\n",
            "Epoch 37\n",
            "---------\n",
            "Train loss: 0.0006372246545877221\n",
            "Test loss: 0.013715859675963634\n",
            "Execution time 189.81427812576294\n",
            "Epoch 38\n",
            "---------\n",
            "Train loss: 0.0006506176333318669\n",
            "Test loss: 0.01161971887892183\n",
            "Execution time 189.14024329185486\n",
            "Epoch 39\n",
            "---------\n",
            "Train loss: 0.0008611751663532266\n",
            "Test loss: 0.011890471163977128\n",
            "Execution time 187.32053112983704\n",
            "Epoch 40\n",
            "---------\n",
            "Train loss: 0.0008370012013762877\n",
            "Test loss: 0.012553057993010947\n",
            "Execution time 187.21945214271545\n",
            "Epoch 41\n",
            "---------\n",
            "Train loss: 0.0009421182110360125\n",
            "Test loss: 0.015433178685247403\n",
            "Execution time 188.69045233726501\n",
            "Epoch 42\n",
            "---------\n",
            "Train loss: 0.0007899089168046896\n",
            "Test loss: 0.0134649566217289\n",
            "Execution time 189.15307140350342\n",
            "Epoch 43\n",
            "---------\n",
            "Train loss: 0.0012036405011245082\n",
            "Test loss: 0.023227093667456584\n",
            "Execution time 188.7746138572693\n",
            "Epoch 44\n",
            "---------\n",
            "Train loss: 0.0008803751464338112\n",
            "Test loss: 0.009073564591455972\n",
            "Execution time 189.66249012947083\n",
            "Epoch 45\n",
            "---------\n",
            "Train loss: 0.0009845738277434386\n",
            "Test loss: 0.01759286685140763\n",
            "Execution time 189.880761384964\n",
            "Epoch 46\n",
            "---------\n",
            "Train loss: 0.0009887857677064046\n",
            "Test loss: 0.014117024023427212\n",
            "Execution time 188.2713041305542\n",
            "Epoch 47\n",
            "---------\n",
            "Train loss: 0.002153279564911287\n",
            "Test loss: 0.009390459682965162\n",
            "Execution time 186.73882222175598\n",
            "Epoch 48\n",
            "---------\n",
            "Train loss: 0.0009363523885951013\n",
            "Test loss: 0.010217086686342419\n",
            "Execution time 186.2094762325287\n",
            "Epoch 49\n",
            "---------\n",
            "Train loss: 0.0006543765217007579\n",
            "Test loss: 0.009736061800548196\n",
            "Execution time 185.54373908042908\n"
          ]
        }
      ],
      "source": [
        "quantum_loss_train = []\n",
        "quantum_loss_test = []\n",
        "print(\"Untrained test\\n--------\")\n",
        "# start = time.time()\n",
        "# test_loss = test_model(test_loader, Qmodel, loss_function)\n",
        "# end = time.time()\n",
        "# print(\"Execution time\", end - start)\n",
        "# quantum_loss_test.append(test_loss)\n",
        "\n",
        "num_epochs = 50\n",
        "\n",
        "for ix_epoch in range(num_epochs):\n",
        "    print(f\"Epoch {ix_epoch}\\n---------\")\n",
        "    start = time.time()\n",
        "    train_loss = train_model(train_loader, Qmodel, loss_function, optimizer=optimizer)\n",
        "    test_loss = test_model(test_loader, Qmodel, loss_function)\n",
        "    end = time.time()\n",
        "    print(\"Execution time\", end - start)\n",
        "    quantum_loss_train.append(train_loss)\n",
        "    quantum_loss_test.append(test_loss)"
      ]
    },
    {
      "cell_type": "code",
      "execution_count": 22,
      "metadata": {
        "id": "feHwT_tlsM-K"
      },
      "outputs": [],
      "source": [
        "train_eval_loader = DataLoader(train_dataset, batch_size=batch_size, shuffle=False)\n",
        "test_eval_loader = DataLoader(test_dataset, batch_size=batch_size, shuffle=False)\n",
        "\n",
        "ystar_col_Q = \"Model Forecast\"\n",
        "df_train[ystar_col_Q] = predict(train_eval_loader, Qmodel).cpu().numpy()\n",
        "df_test[ystar_col_Q] = predict(test_eval_loader, Qmodel).cpu().numpy()"
      ]
    },
    {
      "cell_type": "code",
      "execution_count": 24,
      "metadata": {
        "colab": {
          "base_uri": "https://localhost:8080/",
          "height": 619
        },
        "id": "J7aV3FN2sM-L",
        "outputId": "cc3bd3c3-03e2-452d-baac-86779665f765"
      },
      "outputs": [
        {
          "data": {
            "image/png": "[encoded data removed]",
            "text/plain": [
              "<Figure size 1200x700 with 1 Axes>"
            ]
          },
          "metadata": {},
          "output_type": "display_data"
        }
      ],
      "source": [
        "plt.figure(figsize=(12, 7))\n",
        "plt.plot(range(len(df_train)), df_train[\"Close Price\"], label = \"Real Data\")\n",
        "plt.plot(range(len(df_train)), df_train[\"Model Forecast\"], label = \"QLSTM Train Prediction\")\n",
        "plt.ylabel('Stock Price')\n",
        "plt.xlabel('Days')\n",
        "plt.legend()\n",
        "plt.show()"
      ]
    },
    {
      "cell_type": "code",
      "execution_count": 26,
      "metadata": {
        "colab": {
          "base_uri": "https://localhost:8080/",
          "height": 619
        },
        "id": "eLob7ZL_sM-L",
        "outputId": "bcd47904-4e15-4faf-ef7c-c450231310bc"
      },
      "outputs": [
        {
          "data": {
            "image/png": "[encoded data removed]",
            "text/plain": [
              "<Figure size 1200x700 with 1 Axes>"
            ]
          },
          "metadata": {},
          "output_type": "display_data"
        }
      ],
      "source": [
        "plt.figure(figsize=(12, 7))\n",
        "plt.plot(range(len(df_test)), df_test[\"Close Price\"], label = \"Real Data\")\n",
        "plt.plot(range(len(df_test)), df_test[\"Model Forecast\"], label = \"QLSTM Test Prediction\")\n",
        "plt.ylabel('Stock Price')\n",
        "plt.xlabel('Days')\n",
        "plt.legend()\n",
        "plt.show()"
      ]
    },
    {
      "cell_type": "code",
      "execution_count": 27,
      "metadata": {
        "colab": {
          "base_uri": "https://localhost:8080/"
        },
        "id": "wLgAWMsLsM-M",
        "outputId": "c688afd8-a2d7-44fb-c27d-34d38c68c86f"
      },
      "outputs": [
        {
          "name": "stdout",
          "output_type": "stream",
          "text": [
            "Train RMSE: 0.03813780841560878\n",
            "Test RMSE: 0.0986714861373125\n"
          ]
        }
      ],
      "source": [
        "# Calculate the RMSE for the train and test data\n",
        "from sklearn.metrics import mean_squared_error\n",
        "\n",
        "train_rmse = math.sqrt(mean_squared_error(df_train[\"Close Price\"], df_train[\"Model Forecast\"]))\n",
        "test_rmse = math.sqrt(mean_squared_error(df_test[\"Close Price\"], df_test[\"Model Forecast\"]))\n",
        "print(f\"Train RMSE: {train_rmse}\")\n",
        "print(f\"Test RMSE: {test_rmse}\")"
      ]
    },
    {
      "cell_type": "code",
      "execution_count": 28,
      "metadata": {
        "colab": {
          "base_uri": "https://localhost:8080/"
        },
        "id": "iJymYqkZsM-M",
        "outputId": "99c8a564-12da-482a-d030-1d70bc5e88a3"
      },
      "outputs": [
        {
          "name": "stdout",
          "output_type": "stream",
          "text": [
            "Train accuracy: 0.9883720930232558\n",
            "Test accuracy: 0.8108108108108109\n"
          ]
        }
      ],
      "source": [
        "# Calculate the accuracy of the model\n",
        "def accuracy(y, y_star):\n",
        "    return np.mean(np.abs(y - y_star) < 0.1)\n",
        "\n",
        "train_accuracy = accuracy(df_train[\"Close Price\"], df_train[\"Model Forecast\"])\n",
        "test_accuracy = accuracy(df_test[\"Close Price\"], df_test[\"Model Forecast\"])\n",
        "print(f\"Train accuracy: {train_accuracy}\")\n",
        "print(f\"Test accuracy: {test_accuracy}\")"
      ]
    },
    {
      "cell_type": "code",
      "execution_count": null,
      "metadata": {
        "id": "NxHpjNcosM-M"
      },
      "outputs": [],
      "source": [
        "# Save the trained model\n",
        "torch.save(Qmodel.state_dict(), \"QLSTM_Stock_Price_Model.pt\")"
      ]
    },
    {
      "cell_type": "code",
      "execution_count": null,
      "metadata": {
        "id": "yzUh76dDsM-N"
      },
      "outputs": [],
      "source": []
    }
  ],
  "metadata": {
    "accelerator": "GPU",
    "colab": {
      "gpuType": "T4",
      "provenance": []
    },
    "kernelspec": {
      "display_name": "tf",
      "language": "python",
      "name": "python3"
    },
    "language_info": {
      "codemirror_mode": {
        "name": "ipython",
        "version": 3
      },
      "file_extension": ".py",
      "mimetype": "text/x-python",
      "name": "python",
      "nbconvert_exporter": "python",
      "pygments_lexer": "ipython3",
      "version": "3.9.18"
    },
    "orig_nbformat": 4
  },
  "nbformat": 4,
  "nbformat_minor": 0
}
